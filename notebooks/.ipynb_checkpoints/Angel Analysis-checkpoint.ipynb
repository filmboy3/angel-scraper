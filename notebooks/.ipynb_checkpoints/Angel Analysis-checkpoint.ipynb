{
 "cells": [
  {
   "cell_type": "code",
   "execution_count": null,
   "metadata": {},
   "outputs": [],
   "source": [
    "import bs4 as bs\n",
    "from dalab import *\n",
    "import pandas as pd\n",
    "import time\n",
    "from selenium import webdriver\n",
    "from selenium.webdriver.common.keys import Keys\n",
    "from selenium.webdriver.common.by import By \n",
    "from selenium.webdriver.support.ui import WebDriverWait\n",
    "from selenium.webdriver.support import expected_conditions as EC\n",
    "\n",
    "from datetime import datetime\n",
    "import numpy as np\n",
    "import re\n",
    "from matplotlib import pyplot as plt\n",
    "import random\n",
    "\n",
    "from geopy.geocoders import Nominatim\n",
    "\n",
    "\n",
    "pd.options.display.max_colwidth = 50\n",
    "pallet = ['#D61A46', '#FDDC22', '#236AB9', '#342E09']"
   ]
  },
  {
   "cell_type": "code",
   "execution_count": null,
   "metadata": {},
   "outputs": [],
   "source": [
    "# df = pd.read_pickle('data/angel/startups.pickle')\n",
    "# df = df.drop_duplicates(subset=['name'])\n",
    "# df = df.dropna(subset=['link']).reset_index(drop=True)"
   ]
  },
  {
   "cell_type": "code",
   "execution_count": null,
   "metadata": {},
   "outputs": [],
   "source": [
    "# text_cols = ['name']\n",
    "# for col in text_cols:\n",
    "#     df[col] = df[col].apply(text_norm)\n",
    "# df.head()"
   ]
  },
  {
   "cell_type": "code",
   "execution_count": null,
   "metadata": {},
   "outputs": [],
   "source": [
    "# def process_date(date):\n",
    "#     date = datetime.strptime(date, \"%b %y\")\n",
    "#     return date\n",
    "\n",
    "# def get_min_size(s):\n",
    "#     # Using 0 for unknown\n",
    "#     try:\n",
    "#         return s.split('-')[0]\n",
    "#     except:\n",
    "#         return 0\n",
    "\n",
    "# def money_to_numeric(s):\n",
    "#     try:\n",
    "#         return float(''.join(re.findall(r'\\d*', s)))\n",
    "#     except:\n",
    "#         return np.nan\n",
    "    \n",
    "# def get_lifetime(date):\n",
    "#     lifetime = (datetime.now() - date)\n",
    "#     lifetime = int(lifetime.days/30) # monthly\n",
    "#     return lifetime"
   ]
  },
  {
   "cell_type": "code",
   "execution_count": null,
   "metadata": {},
   "outputs": [],
   "source": [
    "# df['joined'] = df.joined.apply(process_date)    \n",
    "# df['min_size'] = df['size'].apply(get_min_size)\n",
    "# df['raised'] = df.raised.apply(money_to_numeric)\n",
    "# df['lifetime'] = df.joined.apply(get_lifetime)\n",
    "# df['raised_month'] = df.raised/df.lifetime"
   ]
  },
  {
   "cell_type": "code",
   "execution_count": null,
   "metadata": {},
   "outputs": [],
   "source": [
    "# df['k_raised'] = df.raised / 1000\n",
    "# df['m_raised'] = df.raised / 1000000\n",
    "# df['b_raised'] = df.raised / 1000000000"
   ]
  },
  {
   "cell_type": "code",
   "execution_count": null,
   "metadata": {},
   "outputs": [],
   "source": [
    "# geolocator = Nominatim()\n",
    "\n",
    "# def get_latitude(location):\n",
    "#     print(location)\n",
    "#     try: return geolocator.geocode(location).latitude\n",
    "#     except: return None\n",
    "        \n",
    "# def get_longitude(location):\n",
    "#     print(location)\n",
    "#     try: return geolocator.geocode(location).longitude\n",
    "#     except: return None\n",
    "    \n",
    "# def get_address(location):\n",
    "#     print(location)\n",
    "#     try: return geolocator.geocode(location).address\n",
    "#     except: return None"
   ]
  },
  {
   "cell_type": "code",
   "execution_count": null,
   "metadata": {},
   "outputs": [],
   "source": [
    "# df['latitude'] = df.location.apply(get_latitude)\n",
    "# df['longitude'] = df.location.apply(get_longitude)\n",
    "# df['address'] = df.location.apply(get_address)"
   ]
  },
  {
   "cell_type": "code",
   "execution_count": null,
   "metadata": {},
   "outputs": [],
   "source": [
    "df = pd.read_pickle('data/angel/startups_processed.pickle')"
   ]
  },
  {
   "cell_type": "code",
   "execution_count": null,
   "metadata": {
    "scrolled": false
   },
   "outputs": [],
   "source": [
    "import folium\n",
    "from folium.plugins import MarkerCluster\n",
    "from folium.plugins import HeatMap\n",
    "\n",
    "def cluster_map(df, popup_col=None):\n",
    "    \n",
    "    if popup_col:\n",
    "        map_df = df[['latitude', 'longitude', popup_col]].dropna()\n",
    "    else:\n",
    "        map_df = df[['latitude', 'longitude']].dropna()\n",
    "        \n",
    "    cmap = folium.Map(location=[map_df.latitude.median(), map_df.longitude.median()], zoom_start=5,)\n",
    "    marker_cluster = MarkerCluster().add_to(cmap)\n",
    "    \n",
    "    for index, row in map_df.iterrows():\n",
    "        lat = row['latitude']\n",
    "        lon = row['longitude']\n",
    "        try: popup = row[popup_col]\n",
    "        except: popup = None\n",
    "\n",
    "        folium.Marker(location=[lat, lon], popup=popup, \n",
    "                      icon=folium.Icon(color='blue', icon='info-sign')).add_to(marker_cluster)\n",
    "\n",
    "    return cmap\n",
    "\n",
    "cmap = cluster_map(df, popup_col='website')\n",
    "cmap.save('data/angel/cmap.html')"
   ]
  },
  {
   "cell_type": "code",
   "execution_count": null,
   "metadata": {},
   "outputs": [],
   "source": [
    "def heat_map(df):\n",
    "    map_df = df[['latitude', 'longitude']].dropna()\n",
    "    hmap = folium.Map(location=[map_df.latitude.median(), map_df.longitude.median()], zoom_start=2,)\n",
    "    heat = map_df.as_matrix().tolist()\n",
    "    hmap.add_children(HeatMap(heat))\n",
    "    return hmap\n",
    "\n",
    "hmap = heat_map(df)\n",
    "hmap.save('data/angel/hmap.html')"
   ]
  },
  {
   "cell_type": "code",
   "execution_count": null,
   "metadata": {},
   "outputs": [],
   "source": [
    "def heat_wmap(df):\n",
    "    map_df = df[['latitude', 'longitude', 'm_raised']].dropna()\n",
    "    hmap = folium.Map(location=[map_df.latitude.median(), map_df.longitude.median()], zoom_start=2,)\n",
    "    heat = map_df.as_matrix().tolist()\n",
    "    hmap.add_children(HeatMap(heat))\n",
    "    return hmap\n",
    "\n",
    "hwmap = heat_wmap(df)\n",
    "hwmap.save('data/angel/hmap_weighted.html')"
   ]
  },
  {
   "cell_type": "code",
   "execution_count": null,
   "metadata": {},
   "outputs": [],
   "source": [
    "df[['b_raised', 'website']].sort_values(by=['b_raised'], ascending=False).head()"
   ]
  },
  {
   "cell_type": "code",
   "execution_count": null,
   "metadata": {
    "scrolled": false
   },
   "outputs": [],
   "source": [
    "tech_counts = df.groupby('tech').count().name.sort_values(ascending=False)\n",
    "\n",
    "fig = plt.figure(figsize=[20,4])\n",
    "plt.title('Tech', fontsize=25)\n",
    "tech_counts.plot(kind='bar', color=random.choice(pallet), fontsize=15, rot=0)\n",
    "plt.xlabel('')\n",
    "plt.show()"
   ]
  },
  {
   "cell_type": "code",
   "execution_count": null,
   "metadata": {},
   "outputs": [],
   "source": [
    "import plotly.plotly as py\n",
    "import plotly.graph_objs as go\n",
    "\n",
    "labels = tech_counts.index.tolist()\n",
    "values = tech_counts.values.tolist()\n",
    "\n",
    "trace = go.Pie(labels=labels, values=values)\n",
    "\n",
    "py.iplot([trace], filename='basic_pie_chart')"
   ]
  },
  {
   "cell_type": "code",
   "execution_count": null,
   "metadata": {},
   "outputs": [],
   "source": [
    "market_counts = df.groupby('market').count().name.sort_values(ascending=False).iloc[:30]\n",
    "market_counts = market_counts[market_counts.index != ''].sort_values(ascending=False)\n",
    "fig = plt.figure(figsize=[20,4])\n",
    "plt.title('Market', fontsize=25)\n",
    "market_counts.plot(kind='bar', color=random.choice(pallet), fontsize=15, width=0.8)\n",
    "plt.xlabel('')\n",
    "plt.show()"
   ]
  },
  {
   "cell_type": "code",
   "execution_count": null,
   "metadata": {},
   "outputs": [],
   "source": [
    "labels = market_counts.index.tolist()\n",
    "values = market_counts.values.tolist()\n",
    "trace = go.Pie(labels=labels, values=values)\n",
    "py.iplot([trace], filename='basic_pie_chart')"
   ]
  },
  {
   "cell_type": "code",
   "execution_count": null,
   "metadata": {},
   "outputs": [],
   "source": [
    "b2b_dist = df[df.market == 'b2b'].reset_index(drop=True)\n",
    "plt.scatter(b2b_dist.index, b2b_dist.raised)\n",
    "plt.show()"
   ]
  },
  {
   "cell_type": "code",
   "execution_count": null,
   "metadata": {},
   "outputs": [],
   "source": [
    "fig = plt.figure(figsize=[20,4])\n",
    "plt.xticks(fontsize=16)\n",
    "market_sum = df.groupby('market').sum().raised.nlargest(10)\n",
    "market_sum.plot(kind='bar', color=random.choice(pallet), width=0.8)\n",
    "plt.xlabel('')\n",
    "plt.show()"
   ]
  },
  {
   "cell_type": "code",
   "execution_count": null,
   "metadata": {},
   "outputs": [],
   "source": [
    "fig = plt.figure(figsize=[20,4])\n",
    "plt.xticks(fontsize=16)\n",
    "market_mean = df.groupby('market').mean().raised.nlargest(10)\n",
    "market_mean.plot(kind='bar', color=random.choice(pallet), width=0.8)\n",
    "plt.xlabel('')\n",
    "plt.show()"
   ]
  },
  {
   "cell_type": "code",
   "execution_count": null,
   "metadata": {},
   "outputs": [],
   "source": [
    "fig = plt.figure(figsize=[20,4])\n",
    "plt.xticks(fontsize=16)\n",
    "market_median = df.groupby('market').median().raised.nlargest(10)\n",
    "market_median.plot(kind='bar', color=random.choice(pallet), width=0.8)\n",
    "plt.xlabel('')\n",
    "plt.show()"
   ]
  },
  {
   "cell_type": "code",
   "execution_count": null,
   "metadata": {},
   "outputs": [],
   "source": [
    "df[df.market == 'news'].website"
   ]
  },
  {
   "cell_type": "code",
   "execution_count": null,
   "metadata": {
    "scrolled": false
   },
   "outputs": [],
   "source": [
    "bins=[0, 1e6, 10e6, 50e6, 100e6, 1000e6]\n",
    "groups = df.groupby(['market', pd.cut(df.raised, bins)])\n",
    "market_bins = groups.count().name.unstack()\n",
    "market_bins.columns = ['1M', '1-10M', '10-50M', '50-100M', '100-1000M'] \n",
    "market_bins = market_bins[market_bins.index != '']\n",
    "\n",
    "# for col in market_bins.columns:\n",
    "#     fig = plt.figure(figsize=[20,4])\n",
    "#     plt.title(col, fontsize=30)\n",
    "#     plt.xticks(fontsize=16)\n",
    "#     market_bins[col].nlargest(50).plot(kind='bar', color=random.choice(pallet), width=0.8)\n",
    "#     plt.xlabel('')"
   ]
  },
  {
   "cell_type": "code",
   "execution_count": null,
   "metadata": {},
   "outputs": [],
   "source": [
    "market_sum = df.groupby('market').sum().raised.sort_values(ascending=False).iloc[:50]"
   ]
  },
  {
   "cell_type": "code",
   "execution_count": null,
   "metadata": {
    "scrolled": false
   },
   "outputs": [],
   "source": [
    "trace_1 = go.Bar(x=market_bins['1M'].nlargest(50).index.tolist(), \n",
    "                 y=market_bins['1M'].nlargest(50).tolist(), visible=True)\n",
    "\n",
    "trace_10 = go.Bar(x=market_bins['1-10M'].nlargest(50).index.tolist(), \n",
    "                  y=market_bins['1-10M'].nlargest(50).tolist(), visible=False)\n",
    "\n",
    "trace_50 = go.Bar(x=market_bins['10-50M'].nlargest(50).index.tolist(), \n",
    "                  y=market_bins['10-50M'].nlargest(50).tolist(), visible=False)\n",
    "\n",
    "trace_100 = go.Bar(x=market_bins['50-100M'].nlargest(50).index.tolist(), \n",
    "                   y=market_bins['50-100M'].nlargest(50).tolist(), visible=False)\n",
    "\n",
    "trace_1000 = go.Bar(x=market_bins['100-1000M'].nlargest(50).index.tolist(), \n",
    "                    y=market_bins['100-1000M'].nlargest(50).tolist(), visible=False)\n",
    "\n",
    "data = [trace_1, trace_10, trace_50, trace_100, trace_1000]\n",
    "\n",
    "button_1 =  dict(label='1M', method='update', \n",
    "                 args = [{'visible': [True, False, False, False, False]},\n",
    "                 {'title': '1M'}])\n",
    "\n",
    "button_10 =  dict(label='1-10M', method='update', \n",
    "                 args = [{'visible': [False, True, False, False, False]},\n",
    "                 {'title': '1-10M'}])\n",
    "\n",
    "button_50 =  dict(label='10-50M', method='update', \n",
    "                 args = [{'visible': [False, False, True, False, False]},\n",
    "                 {'title': '10-50M'}])\n",
    "\n",
    "button_100 =  dict(label='50-100M', method='update', \n",
    "                 args = [{'visible': [False, False, False, True, False]},\n",
    "                 {'title': '50-100M'}])\n",
    "\n",
    "button_1000 =  dict(label='100-1000M', method='update', \n",
    "                 args = [{'visible': [False, False, False, False, True]},\n",
    "                 {'title': '100-1000M'}])\n",
    "\n",
    "\n",
    "updatemenus = list([dict(type=\"buttons\", active=-1, buttons=[button_1, button_10, button_50, \n",
    "                                                             button_100, button_1000])])\n",
    "\n",
    "layout = dict(title='Investment By Market', showlegend=False, updatemenus=updatemenus)\n",
    "\n",
    "fig = dict(data=data, layout=layout)\n",
    "py.iplot(fig, filename='update_button')"
   ]
  },
  {
   "cell_type": "code",
   "execution_count": null,
   "metadata": {},
   "outputs": [],
   "source": [
    "fig = plt.figure(figsize=[20,4])\n",
    "stage_sum = df.groupby('stage').mean().raised.nsmallest(10)\n",
    "\n",
    "\n",
    "stage_sum.plot(kind='bar', color='w')\n",
    "stage_sum.plot(color=random.choice(pallet), linewidth=3, fontsize=15)\n",
    "plt.xlabel('')\n",
    "plt.title('Average Investiment By Stage', fontsize=25)\n",
    "plt.show()"
   ]
  },
  {
   "cell_type": "code",
   "execution_count": null,
   "metadata": {},
   "outputs": [],
   "source": [
    "date_counts = df.groupby('joined').count().name.cumsum()\n",
    "fig = plt.figure(figsize=[20,4])\n",
    "plt.title('Number of Companies', fontsize=25)\n",
    "date_counts.plot( color=random.choice(pallet), fontsize=15, linewidth=3)\n",
    "plt.xlabel('')\n",
    "plt.show()"
   ]
  },
  {
   "cell_type": "code",
   "execution_count": null,
   "metadata": {},
   "outputs": [],
   "source": [
    "date_raised = df.groupby('joined').sum().m_raised.cumsum()\n",
    "fig = plt.figure(figsize=[20,4])\n",
    "plt.title('Total Investments', fontsize=25)\n",
    "date_raised.plot( color=random.choice(pallet), fontsize=15, linewidth=3)\n",
    "plt.xlabel('')\n",
    "plt.show()"
   ]
  },
  {
   "cell_type": "code",
   "execution_count": null,
   "metadata": {},
   "outputs": [],
   "source": [
    "raised = pd.DataFrame(columns=df.market.unique(), index=df.joined.sort_values().unique())\n",
    "for date in raised.index:\n",
    "    series = df[df.joined == date].groupby('market').sum().m_raised\n",
    "    for market in series.index:\n",
    "        raised.loc[date, market] = series[market]\n",
    "    \n",
    "raised = raised.fillna(0).cumsum()"
   ]
  },
  {
   "cell_type": "code",
   "execution_count": null,
   "metadata": {},
   "outputs": [],
   "source": []
  }
 ],
 "metadata": {
  "kernelspec": {
   "display_name": "Python [conda env:anaconda]",
   "language": "python",
   "name": "conda-env-anaconda-py"
  },
  "language_info": {
   "codemirror_mode": {
    "name": "ipython",
    "version": 3
   },
   "file_extension": ".py",
   "mimetype": "text/x-python",
   "name": "python",
   "nbconvert_exporter": "python",
   "pygments_lexer": "ipython3",
   "version": "3.6.8"
  }
 },
 "nbformat": 4,
 "nbformat_minor": 2
}
